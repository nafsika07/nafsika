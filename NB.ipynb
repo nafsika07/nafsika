{
  "nbformat": 4,
  "nbformat_minor": 0,
  "metadata": {
    "colab": {
      "provenance": []
    },
    "kernelspec": {
      "name": "python3",
      "display_name": "Python 3"
    },
    "language_info": {
      "name": "python"
    }
  },
  "cells": [
    {
      "cell_type": "code",
      "source": [
        "import numpy as np\n",
        "import pandas as pd\n",
        "from sklearn.datasets import fetch_20newsgroups\n",
        "from sklearn.feature_extraction.text import CountVectorizer"
      ],
      "metadata": {
        "id": "f3yq5HSAIMPU"
      },
      "execution_count": 59,
      "outputs": []
    },
    {
      "cell_type": "code",
      "execution_count": 61,
      "metadata": {
        "id": "JLFCP_eai7oE"
      },
      "outputs": [],
      "source": [
        "class NaiveBayes:\n",
        "\n",
        "  def fit(self, X, y):\n",
        "    n_samples, n_features = X.shape\n",
        "    # _ - private attribute or method of a class (accessed only within the class)\n",
        "    self._classes = np.unique(y)\n",
        "    n_classes = len(self._classes)\n",
        "    self._psis = np.zeros((n_classes, n_features), dtype=np.float64)\n",
        "    self._phis = np.zeros(n_classes, dtype=np.float64)\n",
        "    for k in range(n_classes):\n",
        "      X_k = X[y == k]\n",
        "      self._psis[k] = X_k.mean(axis=0)\n",
        "      self._phis[k] = X_k.shape[0] / float(n_samples)\n",
        "    self._psis = self._psis.clip(1e-14, 1-1e-14)\n",
        "\n",
        "  def predict(self, X):\n",
        "    y_pred = [self._predict(x) for x in X]\n",
        "    return np.array(y_pred)\n",
        "\n",
        "  def _predict(self, x):\n",
        "    posteriors = []\n",
        "    for k in range(len(self._classes)):\n",
        "      logpy = np.log(self._phis[k])\n",
        "      logpxy = x * np.log(self._psis[k]) + (1-x) * np.log(1-self._psis[k])\n",
        "      logpyx = np.sum(logpxy) + logpy\n",
        "      posteriors.append(logpyx)\n",
        "    return np.argmax(posteriors)"
      ]
    },
    {
      "cell_type": "code",
      "source": [
        "categories = ['alt.atheism', 'soc.religion.christian', 'comp.graphics', 'sci.med']\n",
        "twenty_train = fetch_20newsgroups(subset='train', categories=categories, shuffle=True, random_state=42)\n",
        "count_vect = CountVectorizer(binary=True, max_features=1000)\n",
        "y_train = twenty_train.target\n",
        "X_train = count_vect.fit_transform(twenty_train.data).toarray()"
      ],
      "metadata": {
        "id": "4v3ku68mn7Ug"
      },
      "execution_count": 7,
      "outputs": []
    },
    {
      "cell_type": "code",
      "source": [
        "nb = NaiveBayes()\n",
        "nb.fit(X_train, y_train)"
      ],
      "metadata": {
        "colab": {
          "base_uri": "https://localhost:8080/"
        },
        "id": "p5JG3NDwpSWW",
        "outputId": "47b14f21-b66b-4d38-9ba6-71bfbad83c1f"
      },
      "execution_count": 62,
      "outputs": [
        {
          "output_type": "stream",
          "name": "stdout",
          "text": [
            "[0.21267169 0.25875055 0.26318121 0.26539654]\n"
          ]
        }
      ]
    },
    {
      "cell_type": "code",
      "source": [
        "nb.predict(X_train)"
      ],
      "metadata": {
        "colab": {
          "base_uri": "https://localhost:8080/"
        },
        "id": "cjQgeUxmqIOH",
        "outputId": "1ffda26f-3bc0-4ad8-a2d6-f03b52fd6330"
      },
      "execution_count": 49,
      "outputs": [
        {
          "output_type": "execute_result",
          "data": {
            "text/plain": [
              "array([1, 1, 3, ..., 2, 2, 2])"
            ]
          },
          "metadata": {},
          "execution_count": 49
        }
      ]
    },
    {
      "cell_type": "code",
      "source": [
        "y_train"
      ],
      "metadata": {
        "colab": {
          "base_uri": "https://localhost:8080/"
        },
        "id": "3dANNiQgAe-2",
        "outputId": "6dbb0016-9e4d-4674-de6c-927c7c2218d5"
      },
      "execution_count": 50,
      "outputs": [
        {
          "output_type": "execute_result",
          "data": {
            "text/plain": [
              "array([1, 1, 3, ..., 2, 2, 2])"
            ]
          },
          "metadata": {},
          "execution_count": 50
        }
      ]
    },
    {
      "cell_type": "code",
      "source": [
        "y_pred = nb.predict(X_train)\n",
        "(y_pred == y_train).mean()"
      ],
      "metadata": {
        "colab": {
          "base_uri": "https://localhost:8080/"
        },
        "id": "fLPtFn0pCAZa",
        "outputId": "d015313a-e31c-445e-a703-cf3ae680839a"
      },
      "execution_count": 51,
      "outputs": [
        {
          "output_type": "execute_result",
          "data": {
            "text/plain": [
              "0.8692955250332299"
            ]
          },
          "metadata": {},
          "execution_count": 51
        }
      ]
    },
    {
      "cell_type": "code",
      "source": [
        "docs_test = ['GPU is graphics processing unit', 'catholic church poland']\n",
        "X_test = count_vect.transform(docs_test).toarray()\n",
        "y_pred_test = nb.predict(X_test)\n",
        "for doc, category in zip(docs_test, y_pred_test):\n",
        "  print('%r => %s' % (doc, twenty_train.target_names[category]))"
      ],
      "metadata": {
        "colab": {
          "base_uri": "https://localhost:8080/"
        },
        "id": "nthAPBF4CRJr",
        "outputId": "5f7a6fd6-4e16-43ce-dd17-8c180075b648"
      },
      "execution_count": 63,
      "outputs": [
        {
          "output_type": "stream",
          "name": "stdout",
          "text": [
            "'GPU is graphics processing unit' => comp.graphics\n",
            "'catholic church poland' => comp.graphics\n"
          ]
        }
      ]
    }
  ]
}